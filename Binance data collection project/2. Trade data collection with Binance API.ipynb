{
 "cells": [
  {
   "cell_type": "markdown",
   "metadata": {},
   "source": [
    "# `Part 2/3: Trade data collection with Binance API`"
   ]
  },
  {
   "cell_type": "markdown",
   "metadata": {},
   "source": [
    "The purpose of this series of notebooks is to showcase real-time candle, trade and order book data collection methods from Binance exchange.\n",
    "\n",
    "Data is collected through websockets and then stored in SQL databases.\n",
    "\n",
    "Possible applications of the stored data include:\n",
    "* creation of custom alerts for discretionary trading \n",
    "* development of a fully automated systematic training system based on a set of predetermined rules\n",
    "\n",
    "#### Author: Vladislav Semin"
   ]
  },
  {
   "cell_type": "markdown",
   "metadata": {},
   "source": [
    "## 1. Import libraries"
   ]
  },
  {
   "cell_type": "code",
   "execution_count": 1,
   "metadata": {},
   "outputs": [],
   "source": [
    "import time\n",
    "import calendar\n",
    "from datetime import datetime\n",
    "\n",
    "import pandas as pd #to create a dataframe\n",
    "\n",
    "import websocket\n",
    "from binance.client import Client # Import the Binance Client\n",
    "from binance.websockets import BinanceSocketManager # Import the Binance Socket Manager\n",
    "\n",
    "import sqlalchemy as db\n",
    "from sqlalchemy import create_engine"
   ]
  },
  {
   "cell_type": "markdown",
   "metadata": {},
   "source": [
    "## 2. Setup Binance websocket connection"
   ]
  },
  {
   "cell_type": "markdown",
   "metadata": {},
   "source": [
    "**IMPORTANT NOTE:** \n",
    "This kernel will not run without API keys. Register an account at Binance crypto exchange website to get your API keys:\n",
    "* https://www.binance.com/en/register"
   ]
  },
  {
   "cell_type": "code",
   "execution_count": 2,
   "metadata": {},
   "outputs": [],
   "source": [
    "# Input Binance API keys\n",
    "# PUBLIC = ''\n",
    "# SECRET = ''"
   ]
  },
  {
   "cell_type": "code",
   "execution_count": 3,
   "metadata": {},
   "outputs": [],
   "source": [
    "# Setup Binance websocket connection\n",
    "client = Client(api_key=PUBLIC, api_secret=SECRET)\n",
    "bm = BinanceSocketManager(client)"
   ]
  },
  {
   "cell_type": "markdown",
   "metadata": {},
   "source": [
    "## 3. Select cryptocurrency pair"
   ]
  },
  {
   "cell_type": "code",
   "execution_count": 4,
   "metadata": {},
   "outputs": [],
   "source": [
    "# We will be collecting data for the following cryptocurrency pair\n",
    "pair = 'ETHBTC'"
   ]
  },
  {
   "cell_type": "markdown",
   "metadata": {},
   "source": [
    "## 4. Setup SQL database"
   ]
  },
  {
   "cell_type": "code",
   "execution_count": 5,
   "metadata": {},
   "outputs": [],
   "source": [
    "# Name of SQL database\n",
    "trade_db = 'binance_trades_{}'.format(pair)"
   ]
  },
  {
   "cell_type": "code",
   "execution_count": 6,
   "metadata": {},
   "outputs": [],
   "source": [
    "# Set up engine to append the values to the SQL database\n",
    "engine = create_engine('sqlite:///{}.db'.format(trade_db), echo=False)"
   ]
  },
  {
   "cell_type": "markdown",
   "metadata": {},
   "source": [
    "## 5. Set up data collection format"
   ]
  },
  {
   "cell_type": "raw",
   "metadata": {},
   "source": [
    "# If we wish create to append trade socket data to python dataframe instead of SQL database, we first create the df:\n",
    "'''\n",
    "t_df = pd.DataFrame(columns=[\"Trade Time\", \"Trade t-stamp\", \"Event t-stamp\", \"Pair\", \"BUY/SELL\",\n",
    "                                           \"Price\", \"Quantity\", \"BTC value\", \"Buyer order ID\", \"Seller order ID\", \"Trade ID\", \n",
    "                                           'Buyer MM', \"Event\", \"Ignore\").set_index(\"Trade Time\")\n",
    "                                           \n",
    "t_df\n",
    "'''"
   ]
  },
  {
   "cell_type": "raw",
   "metadata": {},
   "source": [
    "# Trade socket payload contents\n",
    "'''\n",
    "{\n",
    "  \"e\": \"trade\",     // Event type\n",
    "  \"E\": 123456789,   // Event time\n",
    "  \"s\": \"BNBBTC\",    // Symbol\n",
    "  \"t\": 12345,       // Trade ID\n",
    "  \"p\": \"0.001\",     // Price\n",
    "  \"q\": \"100\",       // Quantity\n",
    "  \"b\": 88,          // Buyer order ID\n",
    "  \"a\": 50,          // Seller order ID\n",
    "  \"T\": 123456785,   // Trade time\n",
    "  \"m\": true,        // Is the buyer the market maker?\n",
    "  \"M\": true         // Ignore\n",
    "}\n",
    "'''"
   ]
  },
  {
   "cell_type": "code",
   "execution_count": 7,
   "metadata": {},
   "outputs": [],
   "source": [
    "# handle_message is a callback function requested by .start_trade_socket method of BinanceSocketManager class\n",
    "def handle_message(msg):\n",
    "    '''\n",
    "    # import global dataframe into which we will save our data\n",
    "    global t_df\n",
    "    '''\n",
    "    global engine\n",
    "    global trade_db\n",
    "    \n",
    "    if msg['e'] == 'error':    \n",
    "        print(msg['m'])\n",
    "        \n",
    "    else:\n",
    "        # To calculate the amount of currency exchanged in bitcoins we convert strings to floats.\n",
    "        btc_exchanged = float(msg['p']) * float(msg['q'])\n",
    "        \n",
    "        # Timestamp converted to date time with microseconds\n",
    "        time = msg['T'] / 1000\n",
    "        time = datetime.fromtimestamp(time).strftime(\"%Y-%m-%d %H:%M:%S.%f\") \n",
    "        \n",
    "        # Buy or sell?\n",
    "        # If \"m\" is true, buyer is the market maker, then someone sold at OB sell price \n",
    "        if msg['m'] == True:\n",
    "            event_side = 'SELL'\n",
    "        else:\n",
    "            event_side = 'BUY'\n",
    "            \n",
    "        # Streaming trades data\n",
    "        stream_dict = {\"Trade Time\": time, \"Trade t-stamp\": msg['T'], \"Event t-stamp\": msg['E'],\n",
    "                       \"Pair\": msg['s'], \"BUY/SELL\": event_side,\n",
    "                       \"Price\": msg['p'], \"Quantity\": msg['q'], \"BTC value\": btc_exchanged,  \n",
    "                       \"Buyer order ID\": msg['b'], \"Seller order ID\": msg['a'], \"Trade ID\": msg['t'], \n",
    "                       'Buyer MM': msg['m'], \"Event\": msg['e'], 'Ignore': msg['M']}\n",
    "        \n",
    "        stream_df = pd.DataFrame([stream_dict]).set_index('Trade Time')  \n",
    "        \n",
    "        '''\n",
    "        # Updating global dataframe\n",
    "        t_df = t_df.append(stream_df, sort=False)\n",
    "        '''\n",
    "        \n",
    "        # real-time export of streaming dataframes to SQLite database        \n",
    "        stream_df.to_sql(trade_db, if_exists=\"append\", con=engine)\n",
    "        \n",
    "        # Event message acknowledging new trades occurring on the exchange\n",
    "        print('### {} trade data updated at {}'.format(msg['s'], time))"
   ]
  },
  {
   "cell_type": "markdown",
   "metadata": {},
   "source": [
    "## 6. Collect trade data"
   ]
  },
  {
   "cell_type": "code",
   "execution_count": 8,
   "metadata": {},
   "outputs": [
    {
     "name": "stdout",
     "output_type": "stream",
     "text": [
      "### ETHBTC trade data updated at 2020-05-07 00:36:36.393000\n",
      "### ETHBTC trade data updated at 2020-05-07 00:36:37.755000\n",
      "### ETHBTC trade data updated at 2020-05-07 00:36:37.755000\n",
      "### ETHBTC trade data updated at 2020-05-07 00:36:39.123000\n",
      "### ETHBTC trade data updated at 2020-05-07 00:36:39.697000\n",
      "### ETHBTC trade data updated at 2020-05-07 00:36:39.697000\n",
      "### ETHBTC trade data updated at 2020-05-07 00:36:40.222000\n",
      "### ETHBTC trade data updated at 2020-05-07 00:36:40.222000\n",
      "### ETHBTC trade data updated at 2020-05-07 00:36:44.806000\n",
      "### ETHBTC trade data updated at 2020-05-07 00:36:44.806000\n",
      "### ETHBTC trade data updated at 2020-05-07 00:36:44.806000\n",
      "### ETHBTC trade data updated at 2020-05-07 00:36:44.806000\n",
      "### ETHBTC trade data updated at 2020-05-07 00:36:46.288000\n",
      "### ETHBTC trade data updated at 2020-05-07 00:36:46.288000\n",
      "### ETHBTC trade data updated at 2020-05-07 00:36:46.493000\n",
      "### ETHBTC trade data updated at 2020-05-07 00:36:46.493000\n",
      "### ETHBTC trade data updated at 2020-05-07 00:36:46.552000\n"
     ]
    }
   ],
   "source": [
    "# Connect to collect data\n",
    "conn_key_trade = bm.start_trade_socket(pair, handle_message)\n",
    "\n",
    "# Start data collection\n",
    "bm.start()\n",
    "\n",
    "# For testing purposes, streaming period is set to 15 seconds. Max connection time is 24 hrs.\n",
    "time.sleep(15) \n",
    "\n",
    "bm.stop_socket(conn_key_trade)\n",
    "\n",
    "bm.close()"
   ]
  },
  {
   "cell_type": "markdown",
   "metadata": {},
   "source": [
    "## 7. Check the data appended to SQL database"
   ]
  },
  {
   "cell_type": "code",
   "execution_count": 9,
   "metadata": {},
   "outputs": [
    {
     "data": {
      "text/plain": [
       "[('2020-05-07 00:36:36.393000', 1588800996393, 1588800996395, 'ETHBTC', 'BUY', '0.02224200', '0.84100000', 0.018705522, 710218637, 710218636, 174576575, 0, 'trade', 1),\n",
       " ('2020-05-07 00:36:37.755000', 1588800997755, 1588800997756, 'ETHBTC', 'SELL', '0.02224000', '0.00800000', 0.00017792, 710218631, 710218651, 174576576, 1, 'trade', 1),\n",
       " ('2020-05-07 00:36:37.755000', 1588800997755, 1588800997756, 'ETHBTC', 'SELL', '0.02223800', '0.21600000', 0.004803408, 710218649, 710218651, 174576577, 1, 'trade', 1),\n",
       " ('2020-05-07 00:36:39.123000', 1588800999123, 1588800999125, 'ETHBTC', 'BUY', '0.02224000', '1.43600000', 0.031936639999999995, 710218668, 710218657, 174576578, 0, 'trade', 1),\n",
       " ('2020-05-07 00:36:39.697000', 1588800999697, 1588800999698, 'ETHBTC', 'SELL', '0.02223800', '0.50700000', 0.011274666000000001, 710218661, 710218672, 174576579, 1, 'trade', 1),\n",
       " ('2020-05-07 00:36:39.697000', 1588800999697, 1588800999698, 'ETHBTC', 'SELL', '0.02223700', '0.16700000', 0.0037135790000000003, 710218660, 710218672, 174576580, 1, 'trade', 1),\n",
       " ('2020-05-07 00:36:40.222000', 1588801000222, 1588801000223, 'ETHBTC', 'BUY', '0.02224100', '0.00800000', 0.000177928, 710218677, 710218656, 174576581, 0, 'trade', 1),\n",
       " ('2020-05-07 00:36:40.222000', 1588801000222, 1588801000224, 'ETHBTC', 'BUY', '0.02224500', '0.01200000', 0.00026694, 710218677, 710209445, 174576582, 0, 'trade', 1),\n",
       " ('2020-05-07 00:36:44.806000', 1588801004806, 1588801004808, 'ETHBTC', 'SELL', '0.02224000', '0.49000000', 0.0108976, 710218686, 710218705, 174576583, 1, 'trade', 1),\n",
       " ('2020-05-07 00:36:44.806000', 1588801004806, 1588801004808, 'ETHBTC', 'SELL', '0.02223900', '0.00800000', 0.000177912, 710218680, 710218705, 174576584, 1, 'trade', 1),\n",
       " ('2020-05-07 00:36:44.806000', 1588801004806, 1588801004808, 'ETHBTC', 'SELL', '0.02223900', '0.32200000', 0.007160957999999999, 710218682, 710218705, 174576585, 1, 'trade', 1),\n",
       " ('2020-05-07 00:36:44.806000', 1588801004806, 1588801004808, 'ETHBTC', 'SELL', '0.02223800', '0.63000000', 0.01400994, 710218685, 710218705, 174576586, 1, 'trade', 1),\n",
       " ('2020-05-07 00:36:46.288000', 1588801006288, 1588801006289, 'ETHBTC', 'BUY', '0.02224400', '0.00800000', 0.000177952, 710218716, 710218681, 174576587, 0, 'trade', 1),\n",
       " ('2020-05-07 00:36:46.288000', 1588801006288, 1588801006289, 'ETHBTC', 'BUY', '0.02224500', '0.89000000', 0.01979805, 710218716, 710209445, 174576588, 0, 'trade', 1),\n",
       " ('2020-05-07 00:36:46.493000', 1588801006493, 1588801006494, 'ETHBTC', 'BUY', '0.02224400', '0.00800000', 0.000177952, 710218719, 710218718, 174576589, 0, 'trade', 1),\n",
       " ('2020-05-07 00:36:46.493000', 1588801006493, 1588801006494, 'ETHBTC', 'BUY', '0.02224500', '0.01200000', 0.00026694, 710218719, 710209445, 174576590, 0, 'trade', 1),\n",
       " ('2020-05-07 00:36:46.552000', 1588801006552, 1588801006554, 'ETHBTC', 'BUY', '0.02224500', '0.99700000', 0.022178265, 710218720, 710209445, 174576591, 0, 'trade', 1)]"
      ]
     },
     "execution_count": 9,
     "metadata": {},
     "output_type": "execute_result"
    }
   ],
   "source": [
    "# Select and show data from the dataframe\n",
    "binance_trades = engine.execute(\"SELECT * FROM \" + trade_db).fetchall()\n",
    "\n",
    "# We can see raw SQL data here: \n",
    "binance_trades"
   ]
  },
  {
   "cell_type": "code",
   "execution_count": 10,
   "metadata": {},
   "outputs": [
    {
     "data": {
      "text/html": [
       "<div>\n",
       "<style scoped>\n",
       "    .dataframe tbody tr th:only-of-type {\n",
       "        vertical-align: middle;\n",
       "    }\n",
       "\n",
       "    .dataframe tbody tr th {\n",
       "        vertical-align: top;\n",
       "    }\n",
       "\n",
       "    .dataframe thead th {\n",
       "        text-align: right;\n",
       "    }\n",
       "</style>\n",
       "<table border=\"1\" class=\"dataframe\">\n",
       "  <thead>\n",
       "    <tr style=\"text-align: right;\">\n",
       "      <th></th>\n",
       "      <th>Trade t-stamp</th>\n",
       "      <th>Event t-stamp</th>\n",
       "      <th>Pair</th>\n",
       "      <th>BUY/SELL</th>\n",
       "      <th>Price</th>\n",
       "      <th>Quantity</th>\n",
       "      <th>BTC value</th>\n",
       "      <th>Buyer order ID</th>\n",
       "      <th>Seller order ID</th>\n",
       "      <th>Trade ID</th>\n",
       "      <th>Buyer MM</th>\n",
       "      <th>Event</th>\n",
       "      <th>Ignore</th>\n",
       "    </tr>\n",
       "    <tr>\n",
       "      <th>Trade Time</th>\n",
       "      <th></th>\n",
       "      <th></th>\n",
       "      <th></th>\n",
       "      <th></th>\n",
       "      <th></th>\n",
       "      <th></th>\n",
       "      <th></th>\n",
       "      <th></th>\n",
       "      <th></th>\n",
       "      <th></th>\n",
       "      <th></th>\n",
       "      <th></th>\n",
       "      <th></th>\n",
       "    </tr>\n",
       "  </thead>\n",
       "  <tbody>\n",
       "    <tr>\n",
       "      <td>2020-05-07 00:36:36.393000</td>\n",
       "      <td>1588800996393</td>\n",
       "      <td>1588800996395</td>\n",
       "      <td>ETHBTC</td>\n",
       "      <td>BUY</td>\n",
       "      <td>0.02224200</td>\n",
       "      <td>0.84100000</td>\n",
       "      <td>0.018706</td>\n",
       "      <td>710218637</td>\n",
       "      <td>710218636</td>\n",
       "      <td>174576575</td>\n",
       "      <td>0</td>\n",
       "      <td>trade</td>\n",
       "      <td>1</td>\n",
       "    </tr>\n",
       "    <tr>\n",
       "      <td>2020-05-07 00:36:37.755000</td>\n",
       "      <td>1588800997755</td>\n",
       "      <td>1588800997756</td>\n",
       "      <td>ETHBTC</td>\n",
       "      <td>SELL</td>\n",
       "      <td>0.02224000</td>\n",
       "      <td>0.00800000</td>\n",
       "      <td>0.000178</td>\n",
       "      <td>710218631</td>\n",
       "      <td>710218651</td>\n",
       "      <td>174576576</td>\n",
       "      <td>1</td>\n",
       "      <td>trade</td>\n",
       "      <td>1</td>\n",
       "    </tr>\n",
       "    <tr>\n",
       "      <td>2020-05-07 00:36:37.755000</td>\n",
       "      <td>1588800997755</td>\n",
       "      <td>1588800997756</td>\n",
       "      <td>ETHBTC</td>\n",
       "      <td>SELL</td>\n",
       "      <td>0.02223800</td>\n",
       "      <td>0.21600000</td>\n",
       "      <td>0.004803</td>\n",
       "      <td>710218649</td>\n",
       "      <td>710218651</td>\n",
       "      <td>174576577</td>\n",
       "      <td>1</td>\n",
       "      <td>trade</td>\n",
       "      <td>1</td>\n",
       "    </tr>\n",
       "    <tr>\n",
       "      <td>2020-05-07 00:36:39.123000</td>\n",
       "      <td>1588800999123</td>\n",
       "      <td>1588800999125</td>\n",
       "      <td>ETHBTC</td>\n",
       "      <td>BUY</td>\n",
       "      <td>0.02224000</td>\n",
       "      <td>1.43600000</td>\n",
       "      <td>0.031937</td>\n",
       "      <td>710218668</td>\n",
       "      <td>710218657</td>\n",
       "      <td>174576578</td>\n",
       "      <td>0</td>\n",
       "      <td>trade</td>\n",
       "      <td>1</td>\n",
       "    </tr>\n",
       "    <tr>\n",
       "      <td>2020-05-07 00:36:39.697000</td>\n",
       "      <td>1588800999697</td>\n",
       "      <td>1588800999698</td>\n",
       "      <td>ETHBTC</td>\n",
       "      <td>SELL</td>\n",
       "      <td>0.02223800</td>\n",
       "      <td>0.50700000</td>\n",
       "      <td>0.011275</td>\n",
       "      <td>710218661</td>\n",
       "      <td>710218672</td>\n",
       "      <td>174576579</td>\n",
       "      <td>1</td>\n",
       "      <td>trade</td>\n",
       "      <td>1</td>\n",
       "    </tr>\n",
       "  </tbody>\n",
       "</table>\n",
       "</div>"
      ],
      "text/plain": [
       "                            Trade t-stamp  Event t-stamp    Pair BUY/SELL  \\\n",
       "Trade Time                                                                  \n",
       "2020-05-07 00:36:36.393000  1588800996393  1588800996395  ETHBTC      BUY   \n",
       "2020-05-07 00:36:37.755000  1588800997755  1588800997756  ETHBTC     SELL   \n",
       "2020-05-07 00:36:37.755000  1588800997755  1588800997756  ETHBTC     SELL   \n",
       "2020-05-07 00:36:39.123000  1588800999123  1588800999125  ETHBTC      BUY   \n",
       "2020-05-07 00:36:39.697000  1588800999697  1588800999698  ETHBTC     SELL   \n",
       "\n",
       "                                 Price    Quantity  BTC value  Buyer order ID  \\\n",
       "Trade Time                                                                      \n",
       "2020-05-07 00:36:36.393000  0.02224200  0.84100000   0.018706       710218637   \n",
       "2020-05-07 00:36:37.755000  0.02224000  0.00800000   0.000178       710218631   \n",
       "2020-05-07 00:36:37.755000  0.02223800  0.21600000   0.004803       710218649   \n",
       "2020-05-07 00:36:39.123000  0.02224000  1.43600000   0.031937       710218668   \n",
       "2020-05-07 00:36:39.697000  0.02223800  0.50700000   0.011275       710218661   \n",
       "\n",
       "                            Seller order ID   Trade ID  Buyer MM  Event  \\\n",
       "Trade Time                                                                \n",
       "2020-05-07 00:36:36.393000        710218636  174576575         0  trade   \n",
       "2020-05-07 00:36:37.755000        710218651  174576576         1  trade   \n",
       "2020-05-07 00:36:37.755000        710218651  174576577         1  trade   \n",
       "2020-05-07 00:36:39.123000        710218657  174576578         0  trade   \n",
       "2020-05-07 00:36:39.697000        710218672  174576579         1  trade   \n",
       "\n",
       "                            Ignore  \n",
       "Trade Time                          \n",
       "2020-05-07 00:36:36.393000       1  \n",
       "2020-05-07 00:36:37.755000       1  \n",
       "2020-05-07 00:36:37.755000       1  \n",
       "2020-05-07 00:36:39.123000       1  \n",
       "2020-05-07 00:36:39.697000       1  "
      ]
     },
     "execution_count": 10,
     "metadata": {},
     "output_type": "execute_result"
    }
   ],
   "source": [
    "# Or we can transform SQL data into pandas dataframe\n",
    "df = pd.DataFrame(binance_trades, columns=[\"Trade Time\", \"Trade t-stamp\", \"Event t-stamp\", \"Pair\", \"BUY/SELL\",\n",
    "                                           \"Price\", \"Quantity\", \"BTC value\", \"Buyer order ID\", \"Seller order ID\", \"Trade ID\", \n",
    "                                           'Buyer MM', \"Event\", \"Ignore\"]).set_index(\"Trade Time\")\n",
    "\n",
    "df.head()"
   ]
  },
  {
   "cell_type": "raw",
   "metadata": {},
   "source": [
    "'''\n",
    "# In case data was initially appended to pandas dataframe and not to SQL, we can check the dataframe:\n",
    "t_df\n",
    "'''"
   ]
  },
  {
   "cell_type": "markdown",
   "metadata": {},
   "source": [
    "## References:\n",
    "#### Binance API Python libraries used in this demonstration:\n",
    "\n",
    "https://gist.github.com/alexbrillant/961502146a7fc5d03205f9b07b8535f5 - Binance Socket Manager class and its methods\n",
    "\n",
    "https://github.com/binance-exchange/python-binance"
   ]
  }
 ],
 "metadata": {
  "kernelspec": {
   "display_name": "Python 3",
   "language": "python",
   "name": "python3"
  },
  "language_info": {
   "codemirror_mode": {
    "name": "ipython",
    "version": 3
   },
   "file_extension": ".py",
   "mimetype": "text/x-python",
   "name": "python",
   "nbconvert_exporter": "python",
   "pygments_lexer": "ipython3",
   "version": "3.7.4"
  }
 },
 "nbformat": 4,
 "nbformat_minor": 2
}
