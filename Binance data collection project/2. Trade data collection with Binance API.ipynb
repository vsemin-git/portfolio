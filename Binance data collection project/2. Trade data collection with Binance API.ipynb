{
 "cells": [
  {
   "cell_type": "markdown",
   "metadata": {},
   "source": [
    "# `Part 2/3: Trade data collection with Binance API`"
   ]
  },
  {
   "cell_type": "markdown",
   "metadata": {},
   "source": [
    "The purpose of this series of notebooks is to showcase real-time candle, trade and order book data collection methods from Binance exchange.\n",
    "\n",
    "Data is collected through websockets and then stored in SQL databases.\n",
    "\n",
    "Possible applications of the stored data include:\n",
    "* creation of custom alerts for discretionary trading \n",
    "* development of a fully automated systematic training system based on a set of predetermined rules\n",
    "\n",
    "#### Author: Vladislav Semin"
   ]
  },
  {
   "cell_type": "markdown",
   "metadata": {},
   "source": [
    "## 1. Import libraries"
   ]
  },
  {
   "cell_type": "code",
   "execution_count": 1,
   "metadata": {},
   "outputs": [],
   "source": [
    "import time\n",
    "import calendar\n",
    "from datetime import datetime\n",
    "\n",
    "import pandas as pd #to create a dataframe\n",
    "\n",
    "import websocket\n",
    "from binance.client import Client # Import the Binance Client\n",
    "from binance.websockets import BinanceSocketManager # Import the Binance Socket Manager\n",
    "\n",
    "import sqlalchemy as db\n",
    "from sqlalchemy import create_engine"
   ]
  },
  {
   "cell_type": "markdown",
   "metadata": {},
   "source": [
    "## 2. Setup Binance websocket connection"
   ]
  },
  {
   "cell_type": "markdown",
   "metadata": {},
   "source": [
    "**IMPORTANT NOTE:** \n",
    "This kernel will not run without API keys. Register an account at Binance crypto exchange website to get your API keys:\n",
    "* https://www.binance.com/en/register"
   ]
  },
  {
   "cell_type": "code",
   "execution_count": 2,
   "metadata": {},
   "outputs": [],
   "source": [
    "# Input Binance API keys\n",
    "# PUBLIC = ''\n",
    "# SECRET = ''"
   ]
  },
  {
   "cell_type": "code",
   "execution_count": 3,
   "metadata": {},
   "outputs": [],
   "source": [
    "# Setup Binance websocket connection\n",
    "client = Client(api_key=PUBLIC, api_secret=SECRET)\n",
    "bm = BinanceSocketManager(client)"
   ]
  },
  {
   "cell_type": "markdown",
   "metadata": {},
   "source": [
    "## 3. Select cryptocurrency pair"
   ]
  },
  {
   "cell_type": "code",
   "execution_count": 4,
   "metadata": {},
   "outputs": [],
   "source": [
    "# We will be collecting data for the following cryptocurrency pair\n",
    "pair = 'ETHBTC'"
   ]
  },
  {
   "cell_type": "markdown",
   "metadata": {},
   "source": [
    "## 4. Setup SQL database"
   ]
  },
  {
   "cell_type": "code",
   "execution_count": 5,
   "metadata": {},
   "outputs": [],
   "source": [
    "# Name of SQL database\n",
    "trade_db = 'binance_trades_{}'.format(pair)"
   ]
  },
  {
   "cell_type": "code",
   "execution_count": 6,
   "metadata": {},
   "outputs": [],
   "source": [
    "# Set up engine to append the values to the SQL database\n",
    "engine = create_engine('sqlite:///{}.db'.format(trade_db), echo=False)"
   ]
  },
  {
   "cell_type": "markdown",
   "metadata": {},
   "source": [
    "## 5. Set up data collection format"
   ]
  },
  {
   "cell_type": "code",
   "execution_count": null,
   "metadata": {},
   "outputs": [],
   "source": [
    "# If we wish create to append trade socket data to python dataframe instead of SQL database, we first create the df:\n",
    "'''\n",
    "t_df = pd.DataFrame(columns=[\"Trade Time\", \"Trade t-stamp\", \"Event t-stamp\", \"Pair\", \"BUY/SELL\",\n",
    "                                           \"Price\", \"Quantity\", \"BTC value\", \"Buyer order ID\", \"Seller order ID\", \"Trade ID\", \n",
    "                                           'Buyer MM', \"Event\", \"Ignore\").set_index(\"Trade Time\")\n",
    "                                           \n",
    "t_df\n",
    "'''"
   ]
  },
  {
   "attachments": {
    "image.png": {
     "image/png": "[encoded data removed]"
    }
   },
   "cell_type": "markdown",
   "metadata": {},
   "source": [
    "![image.png](attachment:image.png)"
   ]
  },
  {
   "cell_type": "code",
   "execution_count": 7,
   "metadata": {},
   "outputs": [],
   "source": [
    "# handle_message is a callback function requested by .start_trade_socket method of BinanceSocketManager class\n",
    "def handle_message(msg):\n",
    "    '''\n",
    "    # import global dataframe into which we will save our data\n",
    "    global t_df\n",
    "    '''\n",
    "    global engine\n",
    "    global trade_db\n",
    "    \n",
    "    if msg['e'] == 'error':    \n",
    "        print(msg['m'])\n",
    "        \n",
    "    else:\n",
    "        # To calculate the amount of currency exchanged in bitcoins we convert strings to floats.\n",
    "        btc_exchanged = float(msg['p']) * float(msg['q'])\n",
    "        \n",
    "        # Timestamp converted to date time with microseconds\n",
    "        time = msg['T'] / 1000\n",
    "        time = datetime.fromtimestamp(time).strftime(\"%Y-%m-%d %H:%M:%S.%f\") \n",
    "        \n",
    "        # Buy or sell?\n",
    "        # If \"m\" is true, buyer is the market maker, then someone sold at OB sell price \n",
    "        if msg['m'] == True:\n",
    "            event_side = 'SELL'\n",
    "        else:\n",
    "            event_side = 'BUY'\n",
    "            \n",
    "        # Streaming trades data\n",
    "        stream_dict = {\"Trade Time\": time, \"Trade t-stamp\": msg['T'], \"Event t-stamp\": msg['E'],\n",
    "                       \"Pair\": msg['s'], \"BUY/SELL\": event_side,\n",
    "                       \"Price\": msg['p'], \"Quantity\": msg['q'], \"BTC value\": btc_exchanged,  \n",
    "                       \"Buyer order ID\": msg['b'], \"Seller order ID\": msg['a'], \"Trade ID\": msg['t'], \n",
    "                       'Buyer MM': msg['m'], \"Event\": msg['e'], 'Ignore': msg['M']}\n",
    "        \n",
    "        stream_df = pd.DataFrame([stream_dict]).set_index('Trade Time')  \n",
    "        \n",
    "        '''\n",
    "        # Updating global dataframe\n",
    "        t_df = t_df.append(stream_df, sort=False)\n",
    "        '''\n",
    "        \n",
    "        # real-time export of streaming dataframes to SQLite database        \n",
    "        stream_df.to_sql(trade_db, if_exists=\"append\", con=engine)\n",
    "        \n",
    "        # Event message acknowledging new trades occurring on the exchange\n",
    "        print('### {} trade data updated at {}'.format(msg['s'], time))"
   ]
  },
  {
   "cell_type": "markdown",
   "metadata": {},
   "source": [
    "## 6. Collect trade data"
   ]
  },
  {
   "cell_type": "code",
   "execution_count": 8,
   "metadata": {},
   "outputs": [
    {
     "name": "stdout",
     "output_type": "stream",
     "text": [
      "### ETHBTC trade data updated at 2020-04-23 01:42:39.295000\n",
      "### ETHBTC trade data updated at 2020-04-23 01:42:40.245000\n",
      "### ETHBTC trade data updated at 2020-04-23 01:42:40.245000\n",
      "### ETHBTC trade data updated at 2020-04-23 01:42:40.245000\n",
      "### ETHBTC trade data updated at 2020-04-23 01:42:40.245000\n",
      "### ETHBTC trade data updated at 2020-04-23 01:42:45.901000\n"
     ]
    }
   ],
   "source": [
    "# Connect to collect data\n",
    "conn_key_trade = bm.start_trade_socket(pair, handle_message)\n",
    "\n",
    "# Start data collection\n",
    "bm.start()\n",
    "\n",
    "# For testing purposes, streaming period is set to 15 seconds. Max connection time is 24 hrs.\n",
    "time.sleep(15) \n",
    "\n",
    "bm.stop_socket(conn_key_trade)\n",
    "\n",
    "bm.close()"
   ]
  },
  {
   "cell_type": "markdown",
   "metadata": {},
   "source": [
    "## 7. Check the data appended to SQL database"
   ]
  },
  {
   "cell_type": "code",
   "execution_count": 9,
   "metadata": {},
   "outputs": [
    {
     "data": {
      "text/plain": [
       "[('2020-04-23 01:42:39.295000', 1587595359295, 1587595359297, 'ETHBTC', 'SELL', '0.02562800', '0.05300000', 0.001358284, 693655774, 693655963, 173058082, 1, 'trade', 1),\n",
       " ('2020-04-23 01:42:40.245000', 1587595360245, 1587595360248, 'ETHBTC', 'BUY', '0.02563400', '0.01200000', 0.000307608, 693655970, 693655944, 173058083, 0, 'trade', 1),\n",
       " ('2020-04-23 01:42:40.245000', 1587595360245, 1587595360248, 'ETHBTC', 'BUY', '0.02563500', '0.01100000', 0.000281985, 693655970, 693626116, 173058084, 0, 'trade', 1),\n",
       " ('2020-04-23 01:42:40.245000', 1587595360245, 1587595360248, 'ETHBTC', 'BUY', '0.02563500', '0.61600000', 0.015791160000000002, 693655970, 693655938, 173058085, 0, 'trade', 1),\n",
       " ('2020-04-23 01:42:40.245000', 1587595360245, 1587595360248, 'ETHBTC', 'BUY', '0.02563500', '0.66200000', 0.016970370000000002, 693655970, 693655939, 173058086, 0, 'trade', 1),\n",
       " ('2020-04-23 01:42:45.901000', 1587595365901, 1587595365902, 'ETHBTC', 'BUY', '0.02563500', '1.07000000', 0.027429450000000005, 693656023, 693655939, 173058087, 0, 'trade', 1)]"
      ]
     },
     "execution_count": 9,
     "metadata": {},
     "output_type": "execute_result"
    }
   ],
   "source": [
    "# Select and show data from the dataframe\n",
    "binance_trades = engine.execute(\"SELECT * FROM \" + trade_db).fetchall()\n",
    "\n",
    "# We can see raw SQL data here: \n",
    "binance_trades"
   ]
  },
  {
   "cell_type": "code",
   "execution_count": 10,
   "metadata": {},
   "outputs": [
    {
     "data": {
      "text/html": [
       "<div>\n",
       "<style scoped>\n",
       "    .dataframe tbody tr th:only-of-type {\n",
       "        vertical-align: middle;\n",
       "    }\n",
       "\n",
       "    .dataframe tbody tr th {\n",
       "        vertical-align: top;\n",
       "    }\n",
       "\n",
       "    .dataframe thead th {\n",
       "        text-align: right;\n",
       "    }\n",
       "</style>\n",
       "<table border=\"1\" class=\"dataframe\">\n",
       "  <thead>\n",
       "    <tr style=\"text-align: right;\">\n",
       "      <th></th>\n",
       "      <th>Trade t-stamp</th>\n",
       "      <th>Event t-stamp</th>\n",
       "      <th>Pair</th>\n",
       "      <th>BUY/SELL</th>\n",
       "      <th>Price</th>\n",
       "      <th>Quantity</th>\n",
       "      <th>BTC value</th>\n",
       "      <th>Buyer order ID</th>\n",
       "      <th>Seller order ID</th>\n",
       "      <th>Trade ID</th>\n",
       "      <th>Buyer MM</th>\n",
       "      <th>Event</th>\n",
       "      <th>Ignore</th>\n",
       "    </tr>\n",
       "    <tr>\n",
       "      <th>Trade Time</th>\n",
       "      <th></th>\n",
       "      <th></th>\n",
       "      <th></th>\n",
       "      <th></th>\n",
       "      <th></th>\n",
       "      <th></th>\n",
       "      <th></th>\n",
       "      <th></th>\n",
       "      <th></th>\n",
       "      <th></th>\n",
       "      <th></th>\n",
       "      <th></th>\n",
       "      <th></th>\n",
       "    </tr>\n",
       "  </thead>\n",
       "  <tbody>\n",
       "    <tr>\n",
       "      <td>2020-04-23 01:42:39.295000</td>\n",
       "      <td>1587595359295</td>\n",
       "      <td>1587595359297</td>\n",
       "      <td>ETHBTC</td>\n",
       "      <td>SELL</td>\n",
       "      <td>0.02562800</td>\n",
       "      <td>0.05300000</td>\n",
       "      <td>0.001358</td>\n",
       "      <td>693655774</td>\n",
       "      <td>693655963</td>\n",
       "      <td>173058082</td>\n",
       "      <td>1</td>\n",
       "      <td>trade</td>\n",
       "      <td>1</td>\n",
       "    </tr>\n",
       "    <tr>\n",
       "      <td>2020-04-23 01:42:40.245000</td>\n",
       "      <td>1587595360245</td>\n",
       "      <td>1587595360248</td>\n",
       "      <td>ETHBTC</td>\n",
       "      <td>BUY</td>\n",
       "      <td>0.02563400</td>\n",
       "      <td>0.01200000</td>\n",
       "      <td>0.000308</td>\n",
       "      <td>693655970</td>\n",
       "      <td>693655944</td>\n",
       "      <td>173058083</td>\n",
       "      <td>0</td>\n",
       "      <td>trade</td>\n",
       "      <td>1</td>\n",
       "    </tr>\n",
       "    <tr>\n",
       "      <td>2020-04-23 01:42:40.245000</td>\n",
       "      <td>1587595360245</td>\n",
       "      <td>1587595360248</td>\n",
       "      <td>ETHBTC</td>\n",
       "      <td>BUY</td>\n",
       "      <td>0.02563500</td>\n",
       "      <td>0.01100000</td>\n",
       "      <td>0.000282</td>\n",
       "      <td>693655970</td>\n",
       "      <td>693626116</td>\n",
       "      <td>173058084</td>\n",
       "      <td>0</td>\n",
       "      <td>trade</td>\n",
       "      <td>1</td>\n",
       "    </tr>\n",
       "    <tr>\n",
       "      <td>2020-04-23 01:42:40.245000</td>\n",
       "      <td>1587595360245</td>\n",
       "      <td>1587595360248</td>\n",
       "      <td>ETHBTC</td>\n",
       "      <td>BUY</td>\n",
       "      <td>0.02563500</td>\n",
       "      <td>0.61600000</td>\n",
       "      <td>0.015791</td>\n",
       "      <td>693655970</td>\n",
       "      <td>693655938</td>\n",
       "      <td>173058085</td>\n",
       "      <td>0</td>\n",
       "      <td>trade</td>\n",
       "      <td>1</td>\n",
       "    </tr>\n",
       "    <tr>\n",
       "      <td>2020-04-23 01:42:40.245000</td>\n",
       "      <td>1587595360245</td>\n",
       "      <td>1587595360248</td>\n",
       "      <td>ETHBTC</td>\n",
       "      <td>BUY</td>\n",
       "      <td>0.02563500</td>\n",
       "      <td>0.66200000</td>\n",
       "      <td>0.016970</td>\n",
       "      <td>693655970</td>\n",
       "      <td>693655939</td>\n",
       "      <td>173058086</td>\n",
       "      <td>0</td>\n",
       "      <td>trade</td>\n",
       "      <td>1</td>\n",
       "    </tr>\n",
       "  </tbody>\n",
       "</table>\n",
       "</div>"
      ],
      "text/plain": [
       "                            Trade t-stamp  Event t-stamp    Pair BUY/SELL  \\\n",
       "Trade Time                                                                  \n",
       "2020-04-23 01:42:39.295000  1587595359295  1587595359297  ETHBTC     SELL   \n",
       "2020-04-23 01:42:40.245000  1587595360245  1587595360248  ETHBTC      BUY   \n",
       "2020-04-23 01:42:40.245000  1587595360245  1587595360248  ETHBTC      BUY   \n",
       "2020-04-23 01:42:40.245000  1587595360245  1587595360248  ETHBTC      BUY   \n",
       "2020-04-23 01:42:40.245000  1587595360245  1587595360248  ETHBTC      BUY   \n",
       "\n",
       "                                 Price    Quantity  BTC value  Buyer order ID  \\\n",
       "Trade Time                                                                      \n",
       "2020-04-23 01:42:39.295000  0.02562800  0.05300000   0.001358       693655774   \n",
       "2020-04-23 01:42:40.245000  0.02563400  0.01200000   0.000308       693655970   \n",
       "2020-04-23 01:42:40.245000  0.02563500  0.01100000   0.000282       693655970   \n",
       "2020-04-23 01:42:40.245000  0.02563500  0.61600000   0.015791       693655970   \n",
       "2020-04-23 01:42:40.245000  0.02563500  0.66200000   0.016970       693655970   \n",
       "\n",
       "                            Seller order ID   Trade ID  Buyer MM  Event  \\\n",
       "Trade Time                                                                \n",
       "2020-04-23 01:42:39.295000        693655963  173058082         1  trade   \n",
       "2020-04-23 01:42:40.245000        693655944  173058083         0  trade   \n",
       "2020-04-23 01:42:40.245000        693626116  173058084         0  trade   \n",
       "2020-04-23 01:42:40.245000        693655938  173058085         0  trade   \n",
       "2020-04-23 01:42:40.245000        693655939  173058086         0  trade   \n",
       "\n",
       "                            Ignore  \n",
       "Trade Time                          \n",
       "2020-04-23 01:42:39.295000       1  \n",
       "2020-04-23 01:42:40.245000       1  \n",
       "2020-04-23 01:42:40.245000       1  \n",
       "2020-04-23 01:42:40.245000       1  \n",
       "2020-04-23 01:42:40.245000       1  "
      ]
     },
     "execution_count": 10,
     "metadata": {},
     "output_type": "execute_result"
    }
   ],
   "source": [
    "# Or we can transform SQL data into pandas dataframe\n",
    "df = pd.DataFrame(binance_trades, columns=[\"Trade Time\", \"Trade t-stamp\", \"Event t-stamp\", \"Pair\", \"BUY/SELL\",\n",
    "                                           \"Price\", \"Quantity\", \"BTC value\", \"Buyer order ID\", \"Seller order ID\", \"Trade ID\", \n",
    "                                           'Buyer MM', \"Event\", \"Ignore\"]).set_index(\"Trade Time\")\n",
    "\n",
    "df.head()"
   ]
  },
  {
   "cell_type": "code",
   "execution_count": null,
   "metadata": {},
   "outputs": [],
   "source": [
    "'''\n",
    "# In case data was initially appended to pandas dataframe and not to SQL, we can check the dataframe:\n",
    "t_df\n",
    "'''"
   ]
  },
  {
   "cell_type": "markdown",
   "metadata": {},
   "source": [
    "## References:\n",
    "#### Binance API Python libraries used in this demonstration:\n",
    "\n",
    "https://gist.github.com/alexbrillant/961502146a7fc5d03205f9b07b8535f5 - Binance Socket Manager class and its methods\n",
    "\n",
    "https://github.com/binance-exchange/python-binance"
   ]
  }
 ],
 "metadata": {
  "kernelspec": {
   "display_name": "Python 3",
   "language": "python",
   "name": "python3"
  },
  "language_info": {
   "codemirror_mode": {
    "name": "ipython",
    "version": 3
   },
   "file_extension": ".py",
   "mimetype": "text/x-python",
   "name": "python",
   "nbconvert_exporter": "python",
   "pygments_lexer": "ipython3",
   "version": "3.7.4"
  }
 },
 "nbformat": 4,
 "nbformat_minor": 2
}
