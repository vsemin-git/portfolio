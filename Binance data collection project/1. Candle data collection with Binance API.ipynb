{
 "cells": [
  {
   "cell_type": "markdown",
   "metadata": {},
   "source": [
    "# `Part 1/3: Candle data collection with Binance API`"
   ]
  },
  {
   "cell_type": "markdown",
   "metadata": {},
   "source": [
    "The purpose of this series of notebooks is to showcase real-time candle, trade and order book data collection methods from Binance exchange.\n",
    "\n",
    "Data is collected through websockets and then stored in SQL databases.\n",
    "\n",
    "Possible applications of the stored data include:\n",
    "* creation of custom alerts for discretionary trading \n",
    "* development of a fully automated systematic training system based on a set of predetermined rules\n",
    "\n",
    "#### Author: Vladislav Semin"
   ]
  },
  {
   "cell_type": "markdown",
   "metadata": {},
   "source": [
    "## 1. Import libraries"
   ]
  },
  {
   "cell_type": "code",
   "execution_count": 1,
   "metadata": {},
   "outputs": [],
   "source": [
    "import time\n",
    "import calendar\n",
    "from datetime import datetime\n",
    "\n",
    "import pandas as pd #to create a dataframe\n",
    "\n",
    "import websocket\n",
    "from binance.client import Client # Import the Binance Client\n",
    "from binance.websockets import BinanceSocketManager # Import the Binance Socket Manager\n",
    "\n",
    "import sqlalchemy as db\n",
    "from sqlalchemy import create_engine"
   ]
  },
  {
   "cell_type": "markdown",
   "metadata": {},
   "source": [
    "## 2. Setup Binance websocket connection"
   ]
  },
  {
   "cell_type": "markdown",
   "metadata": {},
   "source": [
    "**IMPORTANT NOTE:** \n",
    "This kernel will not run without API keys. Register an account at Binance crypto exchange website to get your API keys:\n",
    "* https://www.binance.com/en/register"
   ]
  },
  {
   "cell_type": "code",
   "execution_count": 2,
   "metadata": {},
   "outputs": [],
   "source": [
    "# Input Binance API keys\n",
    "# PUBLIC = ''\n",
    "# SECRET = ''"
   ]
  },
  {
   "cell_type": "code",
   "execution_count": 3,
   "metadata": {},
   "outputs": [],
   "source": [
    "# Setup Binance websocket connection\n",
    "client = Client(api_key=PUBLIC, api_secret=SECRET)\n",
    "bm = BinanceSocketManager(client)"
   ]
  },
  {
   "cell_type": "markdown",
   "metadata": {},
   "source": [
    "## 3. Select cryptocurrency pair"
   ]
  },
  {
   "cell_type": "code",
   "execution_count": 4,
   "metadata": {},
   "outputs": [],
   "source": [
    "# We will be collecting data for the following cryptocurrency pair\n",
    "pair = 'ETHBTC'"
   ]
  },
  {
   "cell_type": "markdown",
   "metadata": {},
   "source": [
    "## 4. Setup SQL database"
   ]
  },
  {
   "cell_type": "code",
   "execution_count": 5,
   "metadata": {},
   "outputs": [],
   "source": [
    "# Select name for SQL database\n",
    "k_lines_db = 'binance_k_lines_{}'.format(pair)"
   ]
  },
  {
   "cell_type": "code",
   "execution_count": 6,
   "metadata": {},
   "outputs": [],
   "source": [
    "# Set up engine to append the values to the SQL database\n",
    "engine = create_engine('sqlite:///{}.db'.format(k_lines_db), echo=False)"
   ]
  },
  {
   "cell_type": "markdown",
   "metadata": {},
   "source": [
    "## 5. Set up data collection format"
   ]
  },
  {
   "cell_type": "markdown",
   "metadata": {},
   "source": [
    "#### K-lines (candles) are useful for % change alerts within a particular timeframe"
   ]
  },
  {
   "cell_type": "raw",
   "metadata": {},
   "source": [
    "''' K-lines payload\n",
    "{\n",
    "                \"e\": \"kline\",\t\t\t\t\t# event type\n",
    "                \"E\": 1499404907056,\t\t\t\t# event time\n",
    "                \"s\": \"ETHBTC\",\t\t\t\t\t# symbol\n",
    "                \"k\": {\n",
    "                    \"t\": 1499404860000, \t\t# start time of this bar\n",
    "                    \"T\": 1499404919999, \t\t# end time of this bar\n",
    "                    \"s\": \"ETHBTC\",\t\t\t\t# symbol\n",
    "                    \"i\": \"1m\",\t\t\t\t\t# interval\n",
    "                    \"f\": 77462,\t\t\t\t\t# first trade id\n",
    "                    \"L\": 77465,\t\t\t\t\t# last trade id\n",
    "                    \"o\": \"0.10278577\",\t\t\t# open\n",
    "                    \"c\": \"0.10278645\",\t\t\t# close\n",
    "                    \"h\": \"0.10278712\",\t\t\t# high\n",
    "                    \"l\": \"0.10278518\",\t\t\t# low\n",
    "                    \"v\": \"17.47929838\",\t\t\t# volume\n",
    "                    \"n\": 4,\t\t\t\t\t\t# number of trades\n",
    "                    \"x\": false,\t\t\t\t\t# whether this bar is final\n",
    "                    \"q\": \"1.79662878\",\t\t\t# quote volume\n",
    "                    \"V\": \"2.34879839\",\t\t\t# volume of active buy\n",
    "                    \"Q\": \"0.24142166\",\t\t\t# quote volume of active buy\n",
    "                    \"B\": \"13279784.01349473\"\t# can be ignored\n",
    "                    }\n",
    "            }\n",
    "'''"
   ]
  },
  {
   "cell_type": "code",
   "execution_count": 7,
   "metadata": {},
   "outputs": [],
   "source": [
    "# k_line_message is a callback function requested by .start_kline_socket method of BinanceSocketManager class\n",
    "def k_line_message(msg):\n",
    "\n",
    "    global engine\n",
    "    global k_lines_db \n",
    "    \n",
    "    if msg['e'] == 'error':    \n",
    "        print(msg['m'])\n",
    "        \n",
    "    else:\n",
    "        # Timestamp converted to date time with microseconds\n",
    "        time_ = msg['E'] / 1000\n",
    "        time_ = datetime.fromtimestamp(time_).strftime(\"%Y-%m-%d %H:%M:%S.%f\") \n",
    "            \n",
    "        # Streaming candles data\n",
    "        kline_stream_dict = {'Event Time': time_,'Event t-stamp': msg['E'], \n",
    "                             'Bar start t-stamp': msg['k']['t'], 'Bar end t-stamp': msg['k']['T'], \n",
    "                             'Pair': msg['s'], 'Interval': msg['k']['i'],\n",
    "                             'Vol': msg['k']['v'], 'Vol of active buy': msg['k']['V'], \n",
    "                             'Quote vol': msg['k']['q'], 'Quote vol of active buy': msg['k']['Q'], \n",
    "                             'Number of trades': msg['k']['n'],\n",
    "                             'Open': msg['k']['o'], 'Close': msg['k']['c'], 'High': msg['k']['h'], 'Low': msg['k']['l'], \n",
    "                             'First trade ID': msg['k']['f'], 'Last trade ID': msg['k']['L'], \n",
    "                             'Final bar': msg['k']['x'], 'Ignore': msg['k']['B'], 'Event': msg['e']}\n",
    "                             \n",
    "        \n",
    "        kline_stream_df = pd.DataFrame([kline_stream_dict]).set_index('Event Time')  \n",
    "        \n",
    "        # real-time export of streaming dataframes to SQLite database        \n",
    "        kline_stream_df.to_sql(k_lines_db,if_exists=\"append\", con=engine)\n",
    "        \n",
    "        # Event message acknowledging new trades occurring on the exchange\n",
    "        print('### {} candle data updated at {}'.format(msg['s'], time_))"
   ]
  },
  {
   "cell_type": "markdown",
   "metadata": {},
   "source": [
    "## 6. Collect candle data"
   ]
  },
  {
   "cell_type": "code",
   "execution_count": 8,
   "metadata": {},
   "outputs": [
    {
     "name": "stdout",
     "output_type": "stream",
     "text": [
      "### ETHBTC candle data updated at 2020-04-23 01:39:07.519000\n",
      "### ETHBTC candle data updated at 2020-04-23 01:39:09.909000\n",
      "### ETHBTC candle data updated at 2020-04-23 01:39:12.093000\n"
     ]
    }
   ],
   "source": [
    "conn_key_k_line = bm.start_kline_socket(pair, k_line_message, interval=Client.KLINE_INTERVAL_1MINUTE)\n",
    "\n",
    "bm.start()\n",
    "\n",
    "# For testing purposes, streaming period is set to 15 seconds. Max connection time is 24 hrs.\n",
    "time.sleep(15) \n",
    "\n",
    "bm.stop_socket(conn_key_k_line)\n",
    "\n",
    "bm.close()"
   ]
  },
  {
   "cell_type": "markdown",
   "metadata": {},
   "source": [
    "## 7. Check the data appended to SQL database"
   ]
  },
  {
   "cell_type": "code",
   "execution_count": 9,
   "metadata": {},
   "outputs": [
    {
     "data": {
      "text/plain": [
       "[('2020-04-23 01:39:07.519000', 1587595147519, 1587595080000, 1587595139999, 'ETHBTC', '1m', '15.62000000', '3.02600000', '0.39975449', '0.07745574', 22, '0.02559600', '0.02559100', '0.02559700', '0.02559100', 173057918, 173057939, 1, '0', 'kline'),\n",
       " ('2020-04-23 01:39:09.909000', 1587595149909, 1587595140000, 1587595199999, 'ETHBTC', '1m', '0.00000000', '0.00000000', '0.00000000', '0.00000000', 0, '0.02559100', '0.02559100', '0.02559100', '0.02559100', -1, -1, 0, '0', 'kline'),\n",
       " ('2020-04-23 01:39:12.093000', 1587595152093, 1587595140000, 1587595199999, 'ETHBTC', '1m', '0.19200000', '0.19200000', '0.00491462', '0.00491462', 1, '0.02559700', '0.02559700', '0.02559700', '0.02559700', 173057940, 173057940, 0, '0', 'kline')]"
      ]
     },
     "execution_count": 9,
     "metadata": {},
     "output_type": "execute_result"
    }
   ],
   "source": [
    "# Select and show data from the dataframe\n",
    "binance_candles = engine.execute(\"SELECT * FROM \" + k_lines_db).fetchall()\n",
    "\n",
    "# We can see raw SQL data here: \n",
    "binance_candles"
   ]
  },
  {
   "cell_type": "code",
   "execution_count": 10,
   "metadata": {},
   "outputs": [
    {
     "data": {
      "text/html": [
       "<div>\n",
       "<style scoped>\n",
       "    .dataframe tbody tr th:only-of-type {\n",
       "        vertical-align: middle;\n",
       "    }\n",
       "\n",
       "    .dataframe tbody tr th {\n",
       "        vertical-align: top;\n",
       "    }\n",
       "\n",
       "    .dataframe thead th {\n",
       "        text-align: right;\n",
       "    }\n",
       "</style>\n",
       "<table border=\"1\" class=\"dataframe\">\n",
       "  <thead>\n",
       "    <tr style=\"text-align: right;\">\n",
       "      <th></th>\n",
       "      <th>Event t-stamp</th>\n",
       "      <th>Bar start t-stamp</th>\n",
       "      <th>Bar end t-stamp</th>\n",
       "      <th>Pair</th>\n",
       "      <th>Interval</th>\n",
       "      <th>Vol</th>\n",
       "      <th>Vol of active buy</th>\n",
       "      <th>Quote vol</th>\n",
       "      <th>Quote vol of active buy</th>\n",
       "      <th>Number of trades</th>\n",
       "      <th>Open</th>\n",
       "      <th>Close</th>\n",
       "      <th>High</th>\n",
       "      <th>Low</th>\n",
       "      <th>First trade ID</th>\n",
       "      <th>Last trade ID</th>\n",
       "      <th>Final bar</th>\n",
       "      <th>Ignore</th>\n",
       "      <th>Event</th>\n",
       "    </tr>\n",
       "    <tr>\n",
       "      <th>Event Time</th>\n",
       "      <th></th>\n",
       "      <th></th>\n",
       "      <th></th>\n",
       "      <th></th>\n",
       "      <th></th>\n",
       "      <th></th>\n",
       "      <th></th>\n",
       "      <th></th>\n",
       "      <th></th>\n",
       "      <th></th>\n",
       "      <th></th>\n",
       "      <th></th>\n",
       "      <th></th>\n",
       "      <th></th>\n",
       "      <th></th>\n",
       "      <th></th>\n",
       "      <th></th>\n",
       "      <th></th>\n",
       "      <th></th>\n",
       "    </tr>\n",
       "  </thead>\n",
       "  <tbody>\n",
       "    <tr>\n",
       "      <td>2020-04-23 01:39:07.519000</td>\n",
       "      <td>1587595147519</td>\n",
       "      <td>1587595080000</td>\n",
       "      <td>1587595139999</td>\n",
       "      <td>ETHBTC</td>\n",
       "      <td>1m</td>\n",
       "      <td>15.62000000</td>\n",
       "      <td>3.02600000</td>\n",
       "      <td>0.39975449</td>\n",
       "      <td>0.07745574</td>\n",
       "      <td>22</td>\n",
       "      <td>0.02559600</td>\n",
       "      <td>0.02559100</td>\n",
       "      <td>0.02559700</td>\n",
       "      <td>0.02559100</td>\n",
       "      <td>173057918</td>\n",
       "      <td>173057939</td>\n",
       "      <td>1</td>\n",
       "      <td>0</td>\n",
       "      <td>kline</td>\n",
       "    </tr>\n",
       "    <tr>\n",
       "      <td>2020-04-23 01:39:09.909000</td>\n",
       "      <td>1587595149909</td>\n",
       "      <td>1587595140000</td>\n",
       "      <td>1587595199999</td>\n",
       "      <td>ETHBTC</td>\n",
       "      <td>1m</td>\n",
       "      <td>0.00000000</td>\n",
       "      <td>0.00000000</td>\n",
       "      <td>0.00000000</td>\n",
       "      <td>0.00000000</td>\n",
       "      <td>0</td>\n",
       "      <td>0.02559100</td>\n",
       "      <td>0.02559100</td>\n",
       "      <td>0.02559100</td>\n",
       "      <td>0.02559100</td>\n",
       "      <td>-1</td>\n",
       "      <td>-1</td>\n",
       "      <td>0</td>\n",
       "      <td>0</td>\n",
       "      <td>kline</td>\n",
       "    </tr>\n",
       "    <tr>\n",
       "      <td>2020-04-23 01:39:12.093000</td>\n",
       "      <td>1587595152093</td>\n",
       "      <td>1587595140000</td>\n",
       "      <td>1587595199999</td>\n",
       "      <td>ETHBTC</td>\n",
       "      <td>1m</td>\n",
       "      <td>0.19200000</td>\n",
       "      <td>0.19200000</td>\n",
       "      <td>0.00491462</td>\n",
       "      <td>0.00491462</td>\n",
       "      <td>1</td>\n",
       "      <td>0.02559700</td>\n",
       "      <td>0.02559700</td>\n",
       "      <td>0.02559700</td>\n",
       "      <td>0.02559700</td>\n",
       "      <td>173057940</td>\n",
       "      <td>173057940</td>\n",
       "      <td>0</td>\n",
       "      <td>0</td>\n",
       "      <td>kline</td>\n",
       "    </tr>\n",
       "  </tbody>\n",
       "</table>\n",
       "</div>"
      ],
      "text/plain": [
       "                            Event t-stamp  Bar start t-stamp  Bar end t-stamp  \\\n",
       "Event Time                                                                      \n",
       "2020-04-23 01:39:07.519000  1587595147519      1587595080000    1587595139999   \n",
       "2020-04-23 01:39:09.909000  1587595149909      1587595140000    1587595199999   \n",
       "2020-04-23 01:39:12.093000  1587595152093      1587595140000    1587595199999   \n",
       "\n",
       "                              Pair Interval          Vol Vol of active buy  \\\n",
       "Event Time                                                                   \n",
       "2020-04-23 01:39:07.519000  ETHBTC       1m  15.62000000        3.02600000   \n",
       "2020-04-23 01:39:09.909000  ETHBTC       1m   0.00000000        0.00000000   \n",
       "2020-04-23 01:39:12.093000  ETHBTC       1m   0.19200000        0.19200000   \n",
       "\n",
       "                             Quote vol Quote vol of active buy  \\\n",
       "Event Time                                                       \n",
       "2020-04-23 01:39:07.519000  0.39975449              0.07745574   \n",
       "2020-04-23 01:39:09.909000  0.00000000              0.00000000   \n",
       "2020-04-23 01:39:12.093000  0.00491462              0.00491462   \n",
       "\n",
       "                            Number of trades        Open       Close  \\\n",
       "Event Time                                                             \n",
       "2020-04-23 01:39:07.519000                22  0.02559600  0.02559100   \n",
       "2020-04-23 01:39:09.909000                 0  0.02559100  0.02559100   \n",
       "2020-04-23 01:39:12.093000                 1  0.02559700  0.02559700   \n",
       "\n",
       "                                  High         Low  First trade ID  \\\n",
       "Event Time                                                           \n",
       "2020-04-23 01:39:07.519000  0.02559700  0.02559100       173057918   \n",
       "2020-04-23 01:39:09.909000  0.02559100  0.02559100              -1   \n",
       "2020-04-23 01:39:12.093000  0.02559700  0.02559700       173057940   \n",
       "\n",
       "                            Last trade ID  Final bar Ignore  Event  \n",
       "Event Time                                                          \n",
       "2020-04-23 01:39:07.519000      173057939          1      0  kline  \n",
       "2020-04-23 01:39:09.909000             -1          0      0  kline  \n",
       "2020-04-23 01:39:12.093000      173057940          0      0  kline  "
      ]
     },
     "execution_count": 10,
     "metadata": {},
     "output_type": "execute_result"
    }
   ],
   "source": [
    "# Or we can transform SQL data into pandas dataframe\n",
    "df = pd.DataFrame(binance_candles, columns=[\"Event Time\", 'Event t-stamp', \n",
    "                                            'Bar start t-stamp', 'Bar end t-stamp', \n",
    "                                            'Pair', 'Interval', \n",
    "                                            'Vol', 'Vol of active buy', \n",
    "                                            'Quote vol', 'Quote vol of active buy',\n",
    "                                            'Number of trades',\n",
    "                                            'Open', 'Close', 'High', 'Low', \n",
    "                                            'First trade ID', 'Last trade ID', \n",
    "                                            'Final bar', 'Ignore', 'Event']).set_index('Event Time')\n",
    "\n",
    "df.head()"
   ]
  },
  {
   "cell_type": "markdown",
   "metadata": {},
   "source": [
    "## References:\n",
    "#### Binance API Python libraries used in this demonstration:\n",
    "\n",
    "https://gist.github.com/alexbrillant/961502146a7fc5d03205f9b07b8535f5 - Binance Socket Manager class and its methods\n",
    "\n",
    "https://github.com/binance-exchange/python-binance"
   ]
  }
 ],
 "metadata": {
  "kernelspec": {
   "display_name": "Python 3",
   "language": "python",
   "name": "python3"
  },
  "language_info": {
   "codemirror_mode": {
    "name": "ipython",
    "version": 3
   },
   "file_extension": ".py",
   "mimetype": "text/x-python",
   "name": "python",
   "nbconvert_exporter": "python",
   "pygments_lexer": "ipython3",
   "version": "3.7.4"
  }
 },
 "nbformat": 4,
 "nbformat_minor": 2
}
